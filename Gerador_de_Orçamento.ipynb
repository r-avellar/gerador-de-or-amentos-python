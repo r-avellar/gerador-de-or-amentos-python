{
  "nbformat": 4,
  "nbformat_minor": 0,
  "metadata": {
    "colab": {
      "provenance": [],
      "authorship_tag": "ABX9TyMDzf/FZA50SYWEi8sS1Wqc",
      "include_colab_link": true
    },
    "kernelspec": {
      "name": "python3",
      "display_name": "Python 3"
    },
    "language_info": {
      "name": "python"
    }
  },
  "cells": [
    {
      "cell_type": "markdown",
      "metadata": {
        "id": "view-in-github",
        "colab_type": "text"
      },
      "source": [
        "<a href=\"https://colab.research.google.com/github/r-avellar/gerador-de-or-amentos-python/blob/main/Gerador_de_Or%C3%A7amento.ipynb\" target=\"_parent\"><img src=\"https://colab.research.google.com/assets/colab-badge.svg\" alt=\"Open In Colab\"/></a>"
      ]
    },
    {
      "cell_type": "markdown",
      "source": [
        "# Meu primeiro código Python"
      ],
      "metadata": {
        "id": "ohetRPwsOf22"
      }
    },
    {
      "cell_type": "code",
      "source": [
        "print(\"Orçamento gerado com sucesso\")\n",
        "print(\"Semana do Python na prática\")\n",
        "print(\"Eu quero muito aprender python\")"
      ],
      "metadata": {
        "colab": {
          "base_uri": "https://localhost:8080/"
        },
        "id": "hQ2HB394Olp0",
        "outputId": "b8fcf2dd-18d8-46e1-8b0e-70803f8ad6da"
      },
      "execution_count": 2,
      "outputs": [
        {
          "output_type": "stream",
          "name": "stdout",
          "text": [
            "Orçamento gerado com sucesso\n",
            "Semana do Python na prática\n",
            "Eu quero muito aprender python\n"
          ]
        }
      ]
    },
    {
      "cell_type": "markdown",
      "source": [
        "# Entrada de dados"
      ],
      "metadata": {
        "id": "42S_ubbpPBiW"
      }
    },
    {
      "cell_type": "code",
      "source": [
        "input(\"Digite a descrição do projeto: \")\n",
        "input(\"Digite o total de horas estimadas: \")\n",
        "input(\"Digite o valor da hora trabalhada: \")\n",
        "input(\"Digite o prazo estimado: \")"
      ],
      "metadata": {
        "colab": {
          "base_uri": "https://localhost:8080/",
          "height": 110
        },
        "id": "PtLH3T2oPD3A",
        "outputId": "d0ba54d0-af68-4f12-a7b1-1de4d3d806e4"
      },
      "execution_count": 5,
      "outputs": [
        {
          "name": "stdout",
          "output_type": "stream",
          "text": [
            "Digite a descrição do projeto: sdsdsd\n",
            "Digite o total de horas estimadas: 45\n",
            "Digite o valor da hora trabalhada: 50\n",
            "Digite o prazo estimado: 6\n"
          ]
        },
        {
          "output_type": "execute_result",
          "data": {
            "text/plain": [
              "'6'"
            ],
            "application/vnd.google.colaboratory.intrinsic+json": {
              "type": "string"
            }
          },
          "metadata": {},
          "execution_count": 5
        }
      ]
    },
    {
      "cell_type": "markdown",
      "source": [
        "# Guardando informações do usuário"
      ],
      "metadata": {
        "id": "SawuoWk3QeCh"
      }
    },
    {
      "cell_type": "code",
      "source": [
        "projeto = input(\"Digite a descrição do projeto: \")\n",
        "horas_estimadas = input(\"Digite o total de horas estimadas: \")\n",
        "valor_hora = input(\"Digite o valor da hora trabalhada: \")\n",
        "prazo = input(\"Digite o prazo estimado: \")"
      ],
      "metadata": {
        "colab": {
          "base_uri": "https://localhost:8080/"
        },
        "id": "qH4ICezNQiP2",
        "outputId": "7456223f-2241-444b-fa20-cc4387d9cbfd"
      },
      "execution_count": 12,
      "outputs": [
        {
          "name": "stdout",
          "output_type": "stream",
          "text": [
            "Digite a descrição do projeto: Desenvolvimento web\n",
            "Digite o total de horas estimadas: 500\n",
            "Digite o valor da hora trabalhada: 150\n",
            "Digite o prazo estimado: 1 ano\n"
          ]
        }
      ]
    },
    {
      "cell_type": "markdown",
      "source": [
        "# Realizando cálculos"
      ],
      "metadata": {
        "id": "hjBeXtPGTYYG"
      }
    },
    {
      "cell_type": "code",
      "source": [
        "valor_total = int(horas_estimadas) * int(valor_hora)"
      ],
      "metadata": {
        "id": "rdwSdLtbRPIu"
      },
      "execution_count": 19,
      "outputs": []
    },
    {
      "cell_type": "code",
      "source": [
        "valor_total"
      ],
      "metadata": {
        "colab": {
          "base_uri": "https://localhost:8080/"
        },
        "id": "iacsdaBBRP7o",
        "outputId": "82e6fb16-b7f9-4ab2-8740-9f34b0278ae7"
      },
      "execution_count": 20,
      "outputs": [
        {
          "output_type": "execute_result",
          "data": {
            "text/plain": [
              "75000"
            ]
          },
          "metadata": {},
          "execution_count": 20
        }
      ]
    },
    {
      "cell_type": "markdown",
      "source": [
        "# Gerando o PDF"
      ],
      "metadata": {
        "id": "r0UxuaK6V5Ks"
      }
    },
    {
      "cell_type": "code",
      "source": [
        "!pip install fpdf"
      ],
      "metadata": {
        "colab": {
          "base_uri": "https://localhost:8080/"
        },
        "id": "PFwYPIbmV3tj",
        "outputId": "c9ca0615-5cdc-428f-effd-3a8b7ae94b13"
      },
      "execution_count": 21,
      "outputs": [
        {
          "output_type": "stream",
          "name": "stdout",
          "text": [
            "Looking in indexes: https://pypi.org/simple, https://us-python.pkg.dev/colab-wheels/public/simple/\n",
            "Collecting fpdf\n",
            "  Downloading fpdf-1.7.2.tar.gz (39 kB)\n",
            "Building wheels for collected packages: fpdf\n",
            "  Building wheel for fpdf (setup.py) ... \u001b[?25l\u001b[?25hdone\n",
            "  Created wheel for fpdf: filename=fpdf-1.7.2-py2.py3-none-any.whl size=40721 sha256=c9371d24b422a8d04862e023cd6110afc4ad5dba4bf60055d2c9c28b5a35e5ff\n",
            "  Stored in directory: /root/.cache/pip/wheels/b4/7f/00/f90ea7c44f8b921477205baa66a7aaf04be398f743ea946fd5\n",
            "Successfully built fpdf\n",
            "Installing collected packages: fpdf\n",
            "Successfully installed fpdf-1.7.2\n"
          ]
        }
      ]
    },
    {
      "cell_type": "code",
      "source": [
        "from fpdf import FPDF"
      ],
      "metadata": {
        "id": "bldBHlKwWUj0"
      },
      "execution_count": 22,
      "outputs": []
    },
    {
      "cell_type": "code",
      "source": [
        "pdf = FPDF()\n",
        "pdf.add_page()\n",
        "pdf.set_font(\"Arial\")\n",
        "\n",
        "pdf.image(\"template.png\", x=0, y=0)\n",
        "\n",
        "pdf.text(115, 145, projeto)\n",
        "pdf.text(115, 160, horas_estimadas)\n",
        "pdf.text(115, 175, valor_hora)\n",
        "pdf.text(115, 190, prazo)\n",
        "pdf.text(115, 205, str(valor_total))\n",
        "\n",
        "pdf.output(\"Orçamento.pdf\")\n",
        "print(\"Orçamento gerado com sucesso!\")"
      ],
      "metadata": {
        "colab": {
          "base_uri": "https://localhost:8080/"
        },
        "id": "HdWNL5l2WgsH",
        "outputId": "81cc5f29-0f68-4da0-fdb4-2024c03ea16b"
      },
      "execution_count": 30,
      "outputs": [
        {
          "output_type": "stream",
          "name": "stdout",
          "text": [
            "Orçamento gerado com sucesso!\n"
          ]
        }
      ]
    },
    {
      "cell_type": "code",
      "source": [],
      "metadata": {
        "id": "a2P7obzVXEUM"
      },
      "execution_count": null,
      "outputs": []
    }
  ]
}